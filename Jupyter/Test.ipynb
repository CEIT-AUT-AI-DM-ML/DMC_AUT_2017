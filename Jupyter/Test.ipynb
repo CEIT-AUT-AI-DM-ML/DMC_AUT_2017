{
 "cells": [
  {
   "cell_type": "code",
   "execution_count": 3,
   "metadata": {},
   "outputs": [
    {
     "name": "stdout",
     "output_type": "stream",
     "text": [
      "avg5\n",
      "0.0\n"
     ]
    }
   ],
   "source": [
    "import csv\n",
    "import math\n",
    "def RepresentsFloat(s):\n",
    "    try:\n",
    "        float(s)\n",
    "        return True\n",
    "    except ValueError:\n",
    "        return False\n",
    "with open('names3.csv', 'rb') as csvfile:\n",
    "    with open ('cluster.csv', 'w') as cluster:\n",
    "\n",
    "        sum = 0.0\n",
    "        sum2 = 0.0\n",
    "        spamreader = csv.reader (csvfile, delimiter=',', quotechar='|')\n",
    "\n",
    "        fieldnames = ['t0', 't1', 't2']\n",
    "\n",
    "        writer = csv.DictWriter (cluster, fieldnames=fieldnames)\n",
    "        writer.writeheader ()\n",
    "\n",
    "        for row in spamreader:\n",
    "\n",
    "            if(RepresentsFloat(row[9])):\n",
    "                t0 = (float(row[3]) - float(row[1]))/float(row[1])\n",
    "                t1 = (float(row[5]) - float(row[3]))/float(row[3])\n",
    "                t2 = (float(row[7]) - float(row[5]))/float(row[5])\n",
    "                #t3 = (float(row[4]) - float(row[2]))/float(row[2])\n",
    "                #t4 = (float(row[6]) - float(row[4]))/float(row[4])\n",
    "                #t5 = (float(row[8]) - float(row[6]))/float(row[6])\n",
    "                writer.writerow ({'t0': t0, 't1':t1, 't2':t2})\n",
    "\n",
    "            else:\n",
    "                print  row[9]\n",
    "        print sum/200"
   ]
  },
  {
   "cell_type": "code",
   "execution_count": null,
   "metadata": {
    "collapsed": true
   },
   "outputs": [],
   "source": []
  }
 ],
 "metadata": {
  "anaconda-cloud": {},
  "kernelspec": {
   "display_name": "Python [conda env:py27]",
   "language": "python",
   "name": "conda-env-py27-py"
  },
  "language_info": {
   "codemirror_mode": {
    "name": "ipython",
    "version": 2
   },
   "file_extension": ".py",
   "mimetype": "text/x-python",
   "name": "python",
   "nbconvert_exporter": "python",
   "pygments_lexer": "ipython2",
   "version": "2.7.14"
  }
 },
 "nbformat": 4,
 "nbformat_minor": 2
}
